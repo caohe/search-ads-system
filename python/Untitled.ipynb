{
 "cells": [
  {
   "cell_type": "code",
   "execution_count": 9,
   "metadata": {},
   "outputs": [
    {
     "name": "stdout",
     "output_type": "stream",
     "text": [
      "token =  amuoc\n",
      "token =  l1\n",
      "token =  bluetooth\n",
      "token =  speaker\n",
      "amuoc_l1_bluetooth_speaker ['amuoc l1 bluetooth speaker']\n"
     ]
    }
   ],
   "source": [
    "import sys\n",
    "import time\n",
    "import json\n",
    "import libmc\n",
    "# from sets import Set\n",
    "from libmc import (\n",
    "    MC_HASH_MD5, MC_POLL_TIMEOUT, MC_CONNECT_TIMEOUT, MC_RETRY_TIMEOUT\n",
    ")\n",
    "\n",
    "def getRewrittenQueries(tokens, dict):\n",
    "    queue = ['']\n",
    "    for token in tokens:\n",
    "        print 'token = ', token\n",
    "        new_queue = []\n",
    "        for y in queue:\n",
    "            if not dict.has_key(token):\n",
    "                continue\n",
    "\n",
    "            for a in dict[token]:\n",
    "                if y == '':\n",
    "                    new_queue.append(a)\n",
    "                else:\n",
    "                    new_queue.append(y + \" \" + a)\n",
    "        queue = new_queue\n",
    "    queue.append(\" \".join(tokens))\n",
    "    return queue\n",
    "\n",
    "if __name__ == \"__main__\":\n",
    "    click_log_file = \"./test_click_log.txt\"\n",
    "    synonyms_file = \"./test_synonyms.txt\"\n",
    "#     click_log_file = sys.argv[1] #raw query file\n",
    "#     synonyms_file = sys.argv[2]\n",
    "    REWRITE_PREFIX = \"REWRITE_\"\n",
    "    dict = {}\n",
    "    with open(synonyms_file) as f:\n",
    "        for line in f:\n",
    "            data = json.loads(line)\n",
    "            values = data['synonyms']\n",
    "            list = []\n",
    "            for value in values:\n",
    "                list.append(value.encode('utf-8'))\n",
    "            dict[data['word'].encode('utf-8')] = list\n",
    "\n",
    "    mc = libmc.Client(\n",
    "        [\"127.0.0.1:11219\"], comp_threshold=0, noreply=False, prefix=None, hash_fn=MC_HASH_MD5, failover=False\n",
    "    )\n",
    "    mc.config(MC_POLL_TIMEOUT, 100)\n",
    "    mc.config(MC_CONNECT_TIMEOUT, 300)\n",
    "    mc.config(MC_RETRY_TIMEOUT, 5)\n",
    "\n",
    "    query_set = Set()\n",
    "    with open(click_log_file, \"r\") as lines:\n",
    "        for line in lines:\n",
    "            tokens = line.strip().split(',')[3].strip().split(' ')\n",
    "            if \" \".join(tokens) in query_set:\n",
    "                continue\n",
    "            query_set.add(\" \".join(tokens)) # filter out duplicated queries\n",
    "            rewrittenQueries = getRewrittenQueries(tokens, dict);\n",
    "            mc.set(REWRITE_PREFIX + \"_\".join(tokens), rewrittenQueries)\n",
    "            print \"_\".join(tokens), mc.get(REWRITE_PREFIX + \"_\".join(tokens))"
   ]
  },
  {
   "cell_type": "code",
   "execution_count": 25,
   "metadata": {},
   "outputs": [
    {
     "name": "stdout",
     "output_type": "stream",
     "text": [
      "tokens =  ['bluetooth', 'speaker']\n",
      "dict[bluetooth] =  ['zenbre', 'dustproof']\n",
      "queue =  ['zenbre', 'dustproof', 'bluetooth']\n",
      "dict[speaker] =  ['wireless', 'rugged']\n",
      "queue =  ['zenbre wireless', 'zenbre rugged', 'zenbre speaker', 'dustproof wireless', 'dustproof rugged', 'dustproof speaker', 'dustproof speaker', 'bluetooth wireless', 'bluetooth rugged', 'bluetooth speaker', 'bluetooth speaker', 'bluetooth speaker']\n",
      "['zenbre wireless', 'zenbre rugged', 'zenbre speaker', 'dustproof wireless', 'dustproof rugged', 'dustproof speaker', 'dustproof speaker', 'bluetooth wireless', 'bluetooth rugged', 'bluetooth speaker', 'bluetooth speaker', 'bluetooth speaker']\n"
     ]
    }
   ],
   "source": [
    "import sys\n",
    "import time\n",
    "import json\n",
    "import libmc\n",
    "# from sets import Set\n",
    "from libmc import (\n",
    "    MC_HASH_MD5, MC_POLL_TIMEOUT, MC_CONNECT_TIMEOUT, MC_RETRY_TIMEOUT\n",
    ")\n",
    "\n",
    "def getRewrittenQueries(tokens, dict):\n",
    "    print 'tokens = ', tokens\n",
    "    queue = ['']\n",
    "    for token in tokens:\n",
    "        new_queue = []\n",
    "        print \"dict[\" + token + \"] = \", dict[token]\n",
    "        for y in queue:\n",
    "            if not dict.has_key(token):\n",
    "                continue\n",
    "\n",
    "            all_tokens = dict[token]\n",
    "            all_tokens.append(token)\n",
    "            for a in all_tokens:\n",
    "                if y == '':\n",
    "                    new_queue.append(a)\n",
    "                else:\n",
    "                    new_queue.append(y + \" \" + a)\n",
    "        queue = new_queue\n",
    "        print 'queue = ', queue\n",
    "#     queue.append(\" \".join(tokens))\n",
    "    return queue\n",
    "\n",
    "if __name__ == \"__main__\":\n",
    "    click_log_file = \"./test_click_log.txt\"\n",
    "    synonyms_file = \"./test_synonyms.txt\"\n",
    "\n",
    "    dict = {}\n",
    "    with open(synonyms_file) as f:\n",
    "        for line in f:\n",
    "            data = json.loads(line)\n",
    "            values = data['synonyms']\n",
    "            list = []\n",
    "            for value in values:\n",
    "                list.append(value.encode('utf-8'))\n",
    "            dict[data['word'].encode('utf-8')] = list\n",
    "\n",
    "    query_set = Set()\n",
    "    with open(click_log_file, \"r\") as lines:\n",
    "        for line in lines:\n",
    "            tokens = line.strip().split(',')[3].strip().split(' ')\n",
    "            if \" \".join(tokens) in query_set:\n",
    "                continue\n",
    "            query_set.add(\" \".join(tokens)) # filter out duplicated queries\n",
    "            rewrittenQueries = getRewrittenQueries(tokens, dict);\n",
    "            print rewrittenQueries"
   ]
  },
  {
   "cell_type": "code",
   "execution_count": null,
   "metadata": {
    "collapsed": true
   },
   "outputs": [],
   "source": [
    ""
   ]
  }
 ],
 "metadata": {
  "kernelspec": {
   "display_name": "Python 2",
   "language": "python",
   "name": "python2"
  },
  "language_info": {
   "codemirror_mode": {
    "name": "ipython",
    "version": 2.0
   },
   "file_extension": ".py",
   "mimetype": "text/x-python",
   "name": "python",
   "nbconvert_exporter": "python",
   "pygments_lexer": "ipython2",
   "version": "2.7.13"
  }
 },
 "nbformat": 4,
 "nbformat_minor": 0
}